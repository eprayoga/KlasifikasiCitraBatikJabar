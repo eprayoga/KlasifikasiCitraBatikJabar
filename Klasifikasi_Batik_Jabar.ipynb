{
  "nbformat": 4,
  "nbformat_minor": 0,
  "metadata": {
    "colab": {
      "provenance": [],
      "authorship_tag": "ABX9TyP8zCx9qjuN4MyPwror0LyF",
      "include_colab_link": true
    },
    "kernelspec": {
      "name": "python3",
      "display_name": "Python 3"
    },
    "language_info": {
      "name": "python"
    }
  },
  "cells": [
    {
      "cell_type": "markdown",
      "metadata": {
        "id": "view-in-github",
        "colab_type": "text"
      },
      "source": [
        "<a href=\"https://colab.research.google.com/github/eprayoga/KlasifikasiCitraBatikJabar/blob/main/Klasifikasi_Batik_Jabar.ipynb\" target=\"_parent\"><img src=\"https://colab.research.google.com/assets/colab-badge.svg\" alt=\"Open In Colab\"/></a>"
      ]
    },
    {
      "cell_type": "code",
      "execution_count": 15,
      "metadata": {
        "id": "i0hyZQr_ohrd"
      },
      "outputs": [],
      "source": [
        "import tensorflow as tf\n",
        "from tensorflow.keras.optimizers import RMSprop\n",
        "from tensorflow.keras.preprocessing.image import ImageDataGenerator\n",
        "from keras.optimizers import Adam,SGD,Adagrad,Adadelta,RMSprop"
      ]
    },
    {
      "cell_type": "code",
      "source": [
        "!wget --no-check-certificate \\\n",
        "  https://github.com/eprayoga/KlasifikasiCitraBatikJabar/raw/main/dataset/batik_jabar_dataset.zip \\\n",
        "  -O /tmp/batik_jabar_dataset.zip"
      ],
      "metadata": {
        "colab": {
          "base_uri": "https://localhost:8080/"
        },
        "id": "50Jv0MO4onlN",
        "outputId": "1c973017-5759-4d74-d2e9-82555b7c1b9c"
      },
      "execution_count": 16,
      "outputs": [
        {
          "output_type": "stream",
          "name": "stdout",
          "text": [
            "--2023-01-26 17:46:08--  https://github.com/eprayoga/KlasifikasiCitraBatikJabar/raw/main/dataset/batik_jabar_dataset.zip\n",
            "Resolving github.com (github.com)... 140.82.113.3\n",
            "Connecting to github.com (github.com)|140.82.113.3|:443... connected.\n",
            "HTTP request sent, awaiting response... 302 Found\n",
            "Location: https://raw.githubusercontent.com/eprayoga/KlasifikasiCitraBatikJabar/main/dataset/batik_jabar_dataset.zip [following]\n",
            "--2023-01-26 17:46:08--  https://raw.githubusercontent.com/eprayoga/KlasifikasiCitraBatikJabar/main/dataset/batik_jabar_dataset.zip\n",
            "Resolving raw.githubusercontent.com (raw.githubusercontent.com)... 185.199.108.133, 185.199.111.133, 185.199.110.133, ...\n",
            "Connecting to raw.githubusercontent.com (raw.githubusercontent.com)|185.199.108.133|:443... connected.\n",
            "HTTP request sent, awaiting response... 200 OK\n",
            "Length: 29735211 (28M) [application/zip]\n",
            "Saving to: ‘/tmp/batik_jabar_dataset.zip’\n",
            "\n",
            "/tmp/batik_jabar_da 100%[===================>]  28.36M  --.-KB/s    in 0.1s    \n",
            "\n",
            "2023-01-26 17:46:08 (254 MB/s) - ‘/tmp/batik_jabar_dataset.zip’ saved [29735211/29735211]\n",
            "\n"
          ]
        }
      ]
    },
    {
      "cell_type": "code",
      "source": [
        "# melakukan ekstraksi pada file zip\n",
        "import zipfile,os\n",
        "local_zip = '/tmp/batik_jabar_dataset.zip'\n",
        "zip_ref = zipfile.ZipFile(local_zip, 'r')\n",
        "zip_ref.extractall('/tmp')\n",
        "zip_ref.close()"
      ],
      "metadata": {
        "id": "1sR4nk_yoqRS"
      },
      "execution_count": 17,
      "outputs": []
    },
    {
      "cell_type": "code",
      "source": [
        "os.listdir('/tmp/DATASETmin')"
      ],
      "metadata": {
        "colab": {
          "base_uri": "https://localhost:8080/"
        },
        "id": "s_EZJdvToslI",
        "outputId": "0cf54df1-e338-4505-fda3-7bb75802807b"
      },
      "execution_count": 18,
      "outputs": [
        {
          "output_type": "execute_result",
          "data": {
            "text/plain": [
              "['TRAIN', 'TEST']"
            ]
          },
          "metadata": {},
          "execution_count": 18
        }
      ]
    },
    {
      "cell_type": "code",
      "source": [
        "base_dir = '/tmp/DATASETmin'\n",
        "train_dir = os.path.join(base_dir, 'TRAIN')\n",
        "validation_dir = os.path.join(base_dir, 'TEST')"
      ],
      "metadata": {
        "id": "aDsmUGmQovrC"
      },
      "execution_count": 19,
      "outputs": []
    },
    {
      "cell_type": "code",
      "source": [
        "os.listdir('/tmp/DATASETmin/TRAIN')"
      ],
      "metadata": {
        "colab": {
          "base_uri": "https://localhost:8080/"
        },
        "id": "vjIH_vtZo4Gj",
        "outputId": "47c04ed0-2352-477f-a39b-cb2ec74ba2b4"
      },
      "execution_count": 20,
      "outputs": [
        {
          "output_type": "execute_result",
          "data": {
            "text/plain": [
              "['Batik Poleng',\n",
              " 'Batik Parang',\n",
              " 'Batik Megamendung',\n",
              " 'Batik Tambal',\n",
              " 'Batik Sekar Jagad',\n",
              " 'Batik Kawung',\n",
              " 'Batik Dayak',\n",
              " 'Batik Cendrawasih',\n",
              " 'Batik Insang',\n",
              " 'Batik Ikat Celup']"
            ]
          },
          "metadata": {},
          "execution_count": 20
        }
      ]
    },
    {
      "cell_type": "code",
      "source": [
        "os.listdir('/tmp/DATASETmin/TEST')"
      ],
      "metadata": {
        "colab": {
          "base_uri": "https://localhost:8080/"
        },
        "id": "woKkisV4o6vj",
        "outputId": "a858dede-a899-4a4e-db47-8023f5150553"
      },
      "execution_count": 21,
      "outputs": [
        {
          "output_type": "execute_result",
          "data": {
            "text/plain": [
              "['Batik Poleng',\n",
              " 'Batik Parang',\n",
              " 'Batik Megamendung',\n",
              " 'Batik Tambal',\n",
              " 'Batik Sekar Jagad',\n",
              " 'Batik Kawung',\n",
              " 'Batik Dayak',\n",
              " 'Batik Cendrawasih',\n",
              " 'Batik Insang',\n",
              " 'Batik Ikat Celup']"
            ]
          },
          "metadata": {},
          "execution_count": 21
        }
      ]
    },
    {
      "cell_type": "code",
      "source": [
        "# membuat direktori tiap jenis batik pada direktori data training\n",
        "train_batik_sekar_jagad_dir = os.path.join(train_dir, 'Batik Sekar Jagad')\n",
        "train_batik_ikat_celup = os.path.join(train_dir, 'Batik Ikat Celup')\n",
        "train_batik_insang = os.path.join(train_dir, 'Batik Insang')\n",
        "train_batik_parang = os.path.join(train_dir, 'Batik Parang')\n",
        "train_batik_dayak = os.path.join(train_dir, 'Batik Dayak')\n",
        "train_batik_tambal = os.path.join(train_dir, 'Batik Tambal')\n",
        "train_batik_kawung = os.path.join(train_dir, 'Batik Kawung')\n",
        "train_batik_poleng = os.path.join(train_dir, 'Batik Poleng')\n",
        "train_batik_megamendung = os.path.join(train_dir, 'Batik Megamendung')\n",
        "train_batik_cendrawasih = os.path.join(train_dir, 'Batik Cendrawasih')\n",
        "\n",
        "# membuat direktori tiap jenis batik pada direktori data validasi\n",
        "validation_batik_sekar_jagad_dir = os.path.join(validation_dir, 'Batik Sekar Jagad')\n",
        "validation_batik_ikat_celup = os.path.join(validation_dir, 'Batik Ikat Celup')\n",
        "validation_batik_insang = os.path.join(validation_dir, 'Batik Insang')\n",
        "validation_batik_parang = os.path.join(validation_dir, 'Batik Parang')\n",
        "validation_batik_dayak = os.path.join(validation_dir, 'Batik Dayak')\n",
        "validation_batik_tambal = os.path.join(validation_dir, 'Batik Tambal')\n",
        "validation_batik_kawung = os.path.join(validation_dir, 'Batik Kawung')\n",
        "validation_batik_poleng = os.path.join(validation_dir, 'Batik Poleng')\n",
        "validation_batik_megamendung = os.path.join(validation_dir, 'Batik Megamendung')\n",
        "validation_batik_cendrawasih = os.path.join(validation_dir, 'Batik Cendrawasih')"
      ],
      "metadata": {
        "id": "bjbC_FPfo9Xh"
      },
      "execution_count": 22,
      "outputs": []
    },
    {
      "cell_type": "code",
      "source": [
        "train_datagen = ImageDataGenerator(\n",
        "                    rescale=1./255,\n",
        "                    featurewise_center=False,  # set input mean to 0 over the dataset\n",
        "                    samplewise_center=False,  # set each sample mean to 0\n",
        "                    featurewise_std_normalization=False,  # divide inputs by std of the dataset\n",
        "                    samplewise_std_normalization=False,  # divide each input by its std\n",
        "                    zca_whitening=False,  # apply ZCA whitening\n",
        "                    rotation_range=20,  # randomly rotate images in the range (degrees, 0 to 180)\n",
        "                    zoom_range = 0.1, # Randomly zoom image \n",
        "                    width_shift_range=0.2,  # randomly shift images horizontally (fraction of total width)\n",
        "                    height_shift_range=0.2,  # randomly shift images vertically (fraction of total height)\n",
        "                    horizontal_flip=True,  # randomly flip images\n",
        "                    vertical_flip=False,\n",
        "                    fill_mode = 'nearest')\n",
        "\n",
        "test_datagen = ImageDataGenerator(\n",
        "                    rescale=1./255,\n",
        "                    shear_range = 0.2,\n",
        "                    featurewise_center=False,  # set input mean to 0 over the dataset\n",
        "                    samplewise_center=False,  # set each sample mean to 0\n",
        "                    featurewise_std_normalization=False,  # divide inputs by std of the dataset\n",
        "                    samplewise_std_normalization=False,  # divide each input by its std\n",
        "                    zca_whitening=False,  # apply ZCA whitening\n",
        "                    rotation_range=20,  # randomly rotate images in the range (degrees, 0 to 180)\n",
        "                    zoom_range = 0.1, # Randomly zoom image \n",
        "                    width_shift_range=0.2,  # randomly shift images horizontally (fraction of total width)\n",
        "                    height_shift_range=0.2,  # randomly shift images vertically (fraction of total height)\n",
        "                    horizontal_flip=True,  # randomly flip images\n",
        "                    vertical_flip=False,\n",
        "                    fill_mode = 'nearest')"
      ],
      "metadata": {
        "id": "fiaVtkhZo-8D"
      },
      "execution_count": 23,
      "outputs": []
    },
    {
      "cell_type": "code",
      "source": [
        "train_generator = train_datagen.flow_from_directory(\n",
        "        train_dir,  # direktori data latih\n",
        "        target_size=(150, 150),  # mengubah resolusi seluruh gambar menjadi 150x150 piksel\n",
        "        batch_size=4,\n",
        "        # karena ini merupakan masalah klasifikasi lebih dari 2 kelas maka menggunakan class_mode = 'categorical'\n",
        "        class_mode='categorical')\n",
        "\n",
        "validation_generator = test_datagen.flow_from_directory(\n",
        "        validation_dir, # direktori data validasi\n",
        "        target_size=(150, 150), # mengubah resolusi seluruh gambar menjadi 150x150 piksel\n",
        "        batch_size=4, \n",
        "        # karena ini merupakan masalah klasifikasi lebih 2 kelas maka menggunakan class_mode = 'categorical'\n",
        "        class_mode='categorical')"
      ],
      "metadata": {
        "colab": {
          "base_uri": "https://localhost:8080/"
        },
        "id": "LFk0om8upBXH",
        "outputId": "10a73dfe-5f56-4b3d-8708-1fd42b4bf3ae"
      },
      "execution_count": 24,
      "outputs": [
        {
          "output_type": "stream",
          "name": "stdout",
          "text": [
            "Found 700 images belonging to 10 classes.\n",
            "Found 200 images belonging to 10 classes.\n"
          ]
        }
      ]
    },
    {
      "cell_type": "code",
      "source": [
        "model = tf.keras.models.Sequential([\n",
        "    tf.keras.layers.Conv2D(32, (3,3), activation='relu', input_shape=(150, 150, 3)),\n",
        "    tf.keras.layers.MaxPooling2D(2, 2),\n",
        "    tf.keras.layers.Conv2D(64, (3,3), activation='relu'),\n",
        "    tf.keras.layers.MaxPooling2D(2,2),\n",
        "    tf.keras.layers.Conv2D(96, (3,3), activation='relu'),\n",
        "    tf.keras.layers.MaxPooling2D(2,2),\n",
        "    tf.keras.layers.Conv2D(96, (3,3), activation='relu'),\n",
        "    tf.keras.layers.MaxPooling2D(2,2),\n",
        "    tf.keras.layers.Flatten(),\n",
        "    tf.keras.layers.Dropout(0.4),\n",
        "    tf.keras.layers.Dense(512, activation='relu'),\n",
        "    tf.keras.layers.Dense(10, activation='softmax')\n",
        "])"
      ],
      "metadata": {
        "id": "S6u03uuDpFb7"
      },
      "execution_count": 25,
      "outputs": []
    },
    {
      "cell_type": "code",
      "source": [
        "model.summary()"
      ],
      "metadata": {
        "colab": {
          "base_uri": "https://localhost:8080/"
        },
        "id": "jtCs33pvpIpd",
        "outputId": "d605f846-8502-416f-f88d-6418ce577beb"
      },
      "execution_count": 26,
      "outputs": [
        {
          "output_type": "stream",
          "name": "stdout",
          "text": [
            "Model: \"sequential_1\"\n",
            "_________________________________________________________________\n",
            " Layer (type)                Output Shape              Param #   \n",
            "=================================================================\n",
            " conv2d_4 (Conv2D)           (None, 148, 148, 32)      896       \n",
            "                                                                 \n",
            " max_pooling2d_4 (MaxPooling  (None, 74, 74, 32)       0         \n",
            " 2D)                                                             \n",
            "                                                                 \n",
            " conv2d_5 (Conv2D)           (None, 72, 72, 64)        18496     \n",
            "                                                                 \n",
            " max_pooling2d_5 (MaxPooling  (None, 36, 36, 64)       0         \n",
            " 2D)                                                             \n",
            "                                                                 \n",
            " conv2d_6 (Conv2D)           (None, 34, 34, 96)        55392     \n",
            "                                                                 \n",
            " max_pooling2d_6 (MaxPooling  (None, 17, 17, 96)       0         \n",
            " 2D)                                                             \n",
            "                                                                 \n",
            " conv2d_7 (Conv2D)           (None, 15, 15, 96)        83040     \n",
            "                                                                 \n",
            " max_pooling2d_7 (MaxPooling  (None, 7, 7, 96)         0         \n",
            " 2D)                                                             \n",
            "                                                                 \n",
            " flatten_1 (Flatten)         (None, 4704)              0         \n",
            "                                                                 \n",
            " dropout_1 (Dropout)         (None, 4704)              0         \n",
            "                                                                 \n",
            " dense_2 (Dense)             (None, 512)               2408960   \n",
            "                                                                 \n",
            " dense_3 (Dense)             (None, 10)                5130      \n",
            "                                                                 \n",
            "=================================================================\n",
            "Total params: 2,571,914\n",
            "Trainable params: 2,571,914\n",
            "Non-trainable params: 0\n",
            "_________________________________________________________________\n"
          ]
        }
      ]
    },
    {
      "cell_type": "code",
      "source": [
        "model.compile(loss='categorical_crossentropy',\n",
        "              optimizer='adam',\n",
        "              metrics=['accuracy'])"
      ],
      "metadata": {
        "id": "SCqDArt3pK9l"
      },
      "execution_count": 27,
      "outputs": []
    },
    {
      "cell_type": "code",
      "source": [
        "model.fit(\n",
        "      train_generator,\n",
        "      steps_per_epoch=128,\n",
        "      epochs=150,\n",
        "      validation_data=validation_generator,\n",
        "      validation_steps=5,\n",
        "      verbose=2,\n",
        ")"
      ],
      "metadata": {
        "colab": {
          "base_uri": "https://localhost:8080/"
        },
        "id": "TUIiQJ7MpM5d",
        "outputId": "efdffd01-ac1c-4e31-f643-e7f40f01b8c6"
      },
      "execution_count": 28,
      "outputs": [
        {
          "output_type": "stream",
          "name": "stdout",
          "text": [
            "Epoch 1/150\n",
            "128/128 - 28s - loss: 2.3175 - accuracy: 0.0957 - val_loss: 2.3009 - val_accuracy: 0.1000 - 28s/epoch - 218ms/step\n",
            "Epoch 2/150\n",
            "128/128 - 26s - loss: 2.2960 - accuracy: 0.1250 - val_loss: 2.2672 - val_accuracy: 0.1500 - 26s/epoch - 201ms/step\n",
            "Epoch 3/150\n",
            "128/128 - 27s - loss: 2.3022 - accuracy: 0.1211 - val_loss: 2.2515 - val_accuracy: 0.1500 - 27s/epoch - 207ms/step\n",
            "Epoch 4/150\n",
            "128/128 - 25s - loss: 2.2357 - accuracy: 0.1523 - val_loss: 2.0988 - val_accuracy: 0.1000 - 25s/epoch - 197ms/step\n",
            "Epoch 5/150\n",
            "128/128 - 25s - loss: 2.2261 - accuracy: 0.1504 - val_loss: 2.3241 - val_accuracy: 0.1000 - 25s/epoch - 198ms/step\n",
            "Epoch 6/150\n",
            "128/128 - 25s - loss: 2.2307 - accuracy: 0.1406 - val_loss: 2.1100 - val_accuracy: 0.2000 - 25s/epoch - 198ms/step\n",
            "Epoch 7/150\n",
            "128/128 - 25s - loss: 2.1893 - accuracy: 0.2090 - val_loss: 2.4025 - val_accuracy: 0.0500 - 25s/epoch - 198ms/step\n",
            "Epoch 8/150\n",
            "128/128 - 25s - loss: 2.1632 - accuracy: 0.1914 - val_loss: 2.2563 - val_accuracy: 0.0500 - 25s/epoch - 197ms/step\n",
            "Epoch 9/150\n",
            "128/128 - 25s - loss: 2.0783 - accuracy: 0.2344 - val_loss: 2.2149 - val_accuracy: 0.2000 - 25s/epoch - 196ms/step\n",
            "Epoch 10/150\n",
            "128/128 - 26s - loss: 2.0858 - accuracy: 0.2266 - val_loss: 2.0266 - val_accuracy: 0.2000 - 26s/epoch - 206ms/step\n",
            "Epoch 11/150\n",
            "128/128 - 25s - loss: 2.0547 - accuracy: 0.2520 - val_loss: 2.1130 - val_accuracy: 0.3000 - 25s/epoch - 199ms/step\n",
            "Epoch 12/150\n",
            "128/128 - 25s - loss: 2.1069 - accuracy: 0.2070 - val_loss: 1.9276 - val_accuracy: 0.3000 - 25s/epoch - 199ms/step\n",
            "Epoch 13/150\n",
            "128/128 - 25s - loss: 2.0777 - accuracy: 0.2305 - val_loss: 2.1155 - val_accuracy: 0.2500 - 25s/epoch - 199ms/step\n",
            "Epoch 14/150\n",
            "128/128 - 25s - loss: 2.0152 - accuracy: 0.2402 - val_loss: 2.2469 - val_accuracy: 0.2000 - 25s/epoch - 198ms/step\n",
            "Epoch 15/150\n",
            "128/128 - 25s - loss: 2.0200 - accuracy: 0.2344 - val_loss: 1.9918 - val_accuracy: 0.2500 - 25s/epoch - 197ms/step\n",
            "Epoch 16/150\n",
            "128/128 - 25s - loss: 2.0432 - accuracy: 0.2324 - val_loss: 2.3063 - val_accuracy: 0.1500 - 25s/epoch - 199ms/step\n",
            "Epoch 17/150\n",
            "128/128 - 26s - loss: 2.0646 - accuracy: 0.2129 - val_loss: 1.9864 - val_accuracy: 0.2000 - 26s/epoch - 201ms/step\n",
            "Epoch 18/150\n",
            "128/128 - 25s - loss: 2.0164 - accuracy: 0.2344 - val_loss: 2.0482 - val_accuracy: 0.4500 - 25s/epoch - 198ms/step\n",
            "Epoch 19/150\n",
            "128/128 - 27s - loss: 1.9805 - accuracy: 0.2578 - val_loss: 2.1200 - val_accuracy: 0.3000 - 27s/epoch - 207ms/step\n",
            "Epoch 20/150\n",
            "128/128 - 25s - loss: 1.9697 - accuracy: 0.2656 - val_loss: 1.8048 - val_accuracy: 0.2500 - 25s/epoch - 196ms/step\n",
            "Epoch 21/150\n",
            "128/128 - 25s - loss: 1.9621 - accuracy: 0.2578 - val_loss: 1.7449 - val_accuracy: 0.4000 - 25s/epoch - 199ms/step\n",
            "Epoch 22/150\n",
            "128/128 - 25s - loss: 1.9437 - accuracy: 0.2754 - val_loss: 2.0721 - val_accuracy: 0.2500 - 25s/epoch - 199ms/step\n",
            "Epoch 23/150\n",
            "128/128 - 26s - loss: 1.9538 - accuracy: 0.3047 - val_loss: 1.9967 - val_accuracy: 0.3000 - 26s/epoch - 200ms/step\n",
            "Epoch 24/150\n",
            "128/128 - 27s - loss: 1.9329 - accuracy: 0.2930 - val_loss: 2.0671 - val_accuracy: 0.2500 - 27s/epoch - 207ms/step\n",
            "Epoch 25/150\n",
            "128/128 - 25s - loss: 1.8863 - accuracy: 0.2812 - val_loss: 2.0953 - val_accuracy: 0.2500 - 25s/epoch - 198ms/step\n",
            "Epoch 26/150\n",
            "128/128 - 26s - loss: 1.8786 - accuracy: 0.2852 - val_loss: 1.7716 - val_accuracy: 0.3000 - 26s/epoch - 200ms/step\n",
            "Epoch 27/150\n",
            "128/128 - 26s - loss: 1.8600 - accuracy: 0.3105 - val_loss: 1.9018 - val_accuracy: 0.4500 - 26s/epoch - 201ms/step\n",
            "Epoch 28/150\n",
            "128/128 - 26s - loss: 1.8150 - accuracy: 0.3477 - val_loss: 1.7941 - val_accuracy: 0.4000 - 26s/epoch - 201ms/step\n",
            "Epoch 29/150\n",
            "128/128 - 25s - loss: 1.8025 - accuracy: 0.3555 - val_loss: 1.7666 - val_accuracy: 0.3500 - 25s/epoch - 199ms/step\n",
            "Epoch 30/150\n",
            "128/128 - 26s - loss: 1.7132 - accuracy: 0.3652 - val_loss: 1.4019 - val_accuracy: 0.6000 - 26s/epoch - 200ms/step\n",
            "Epoch 31/150\n",
            "128/128 - 26s - loss: 1.7603 - accuracy: 0.3555 - val_loss: 2.4216 - val_accuracy: 0.1500 - 26s/epoch - 202ms/step\n",
            "Epoch 32/150\n",
            "128/128 - 26s - loss: 1.8214 - accuracy: 0.3008 - val_loss: 2.4400 - val_accuracy: 0.2500 - 26s/epoch - 201ms/step\n",
            "Epoch 33/150\n",
            "128/128 - 25s - loss: 1.7430 - accuracy: 0.3574 - val_loss: 2.1925 - val_accuracy: 0.3000 - 25s/epoch - 198ms/step\n",
            "Epoch 34/150\n",
            "128/128 - 25s - loss: 1.7876 - accuracy: 0.3535 - val_loss: 1.7891 - val_accuracy: 0.3500 - 25s/epoch - 199ms/step\n",
            "Epoch 35/150\n",
            "128/128 - 27s - loss: 1.7261 - accuracy: 0.3730 - val_loss: 1.9123 - val_accuracy: 0.2500 - 27s/epoch - 208ms/step\n",
            "Epoch 36/150\n",
            "128/128 - 25s - loss: 1.7538 - accuracy: 0.3613 - val_loss: 1.6387 - val_accuracy: 0.5000 - 25s/epoch - 198ms/step\n",
            "Epoch 37/150\n",
            "128/128 - 25s - loss: 1.7230 - accuracy: 0.3828 - val_loss: 1.5159 - val_accuracy: 0.4000 - 25s/epoch - 198ms/step\n",
            "Epoch 38/150\n",
            "128/128 - 25s - loss: 1.7279 - accuracy: 0.3574 - val_loss: 1.9563 - val_accuracy: 0.2500 - 25s/epoch - 199ms/step\n",
            "Epoch 39/150\n",
            "128/128 - 26s - loss: 1.7235 - accuracy: 0.3535 - val_loss: 1.7837 - val_accuracy: 0.4500 - 26s/epoch - 200ms/step\n",
            "Epoch 40/150\n",
            "128/128 - 25s - loss: 1.6592 - accuracy: 0.3945 - val_loss: 2.0571 - val_accuracy: 0.2500 - 25s/epoch - 198ms/step\n",
            "Epoch 41/150\n",
            "128/128 - 26s - loss: 1.6737 - accuracy: 0.4102 - val_loss: 1.7272 - val_accuracy: 0.3000 - 26s/epoch - 199ms/step\n",
            "Epoch 42/150\n",
            "128/128 - 25s - loss: 1.6589 - accuracy: 0.3887 - val_loss: 1.7481 - val_accuracy: 0.4000 - 25s/epoch - 199ms/step\n",
            "Epoch 43/150\n",
            "128/128 - 25s - loss: 1.6862 - accuracy: 0.3750 - val_loss: 1.8303 - val_accuracy: 0.3000 - 25s/epoch - 198ms/step\n",
            "Epoch 44/150\n",
            "128/128 - 25s - loss: 1.5978 - accuracy: 0.4375 - val_loss: 1.9259 - val_accuracy: 0.2500 - 25s/epoch - 197ms/step\n",
            "Epoch 45/150\n",
            "128/128 - 25s - loss: 1.6190 - accuracy: 0.4082 - val_loss: 1.9232 - val_accuracy: 0.3500 - 25s/epoch - 198ms/step\n",
            "Epoch 46/150\n",
            "128/128 - 25s - loss: 1.6520 - accuracy: 0.4043 - val_loss: 2.0957 - val_accuracy: 0.2500 - 25s/epoch - 198ms/step\n",
            "Epoch 47/150\n",
            "128/128 - 26s - loss: 1.6201 - accuracy: 0.4121 - val_loss: 1.8820 - val_accuracy: 0.3000 - 26s/epoch - 199ms/step\n",
            "Epoch 48/150\n",
            "128/128 - 25s - loss: 1.5817 - accuracy: 0.4219 - val_loss: 1.7599 - val_accuracy: 0.4500 - 25s/epoch - 199ms/step\n",
            "Epoch 49/150\n",
            "128/128 - 25s - loss: 1.6013 - accuracy: 0.4199 - val_loss: 1.5553 - val_accuracy: 0.3500 - 25s/epoch - 199ms/step\n",
            "Epoch 50/150\n",
            "128/128 - 25s - loss: 1.6336 - accuracy: 0.4082 - val_loss: 1.8489 - val_accuracy: 0.4500 - 25s/epoch - 198ms/step\n",
            "Epoch 51/150\n",
            "128/128 - 25s - loss: 1.5592 - accuracy: 0.4434 - val_loss: 1.8524 - val_accuracy: 0.3500 - 25s/epoch - 197ms/step\n",
            "Epoch 52/150\n",
            "128/128 - 27s - loss: 1.5571 - accuracy: 0.4395 - val_loss: 1.4692 - val_accuracy: 0.5000 - 27s/epoch - 208ms/step\n",
            "Epoch 53/150\n",
            "128/128 - 25s - loss: 1.5679 - accuracy: 0.4395 - val_loss: 1.5873 - val_accuracy: 0.3500 - 25s/epoch - 198ms/step\n",
            "Epoch 54/150\n",
            "128/128 - 26s - loss: 1.5574 - accuracy: 0.4180 - val_loss: 1.9236 - val_accuracy: 0.3000 - 26s/epoch - 199ms/step\n",
            "Epoch 55/150\n",
            "128/128 - 26s - loss: 1.5733 - accuracy: 0.4355 - val_loss: 1.5687 - val_accuracy: 0.4500 - 26s/epoch - 199ms/step\n",
            "Epoch 56/150\n",
            "128/128 - 25s - loss: 1.5105 - accuracy: 0.4688 - val_loss: 1.5332 - val_accuracy: 0.3500 - 25s/epoch - 199ms/step\n",
            "Epoch 57/150\n",
            "128/128 - 26s - loss: 1.4750 - accuracy: 0.4473 - val_loss: 1.7887 - val_accuracy: 0.3500 - 26s/epoch - 200ms/step\n",
            "Epoch 58/150\n",
            "128/128 - 27s - loss: 1.4689 - accuracy: 0.4766 - val_loss: 2.3304 - val_accuracy: 0.4000 - 27s/epoch - 208ms/step\n",
            "Epoch 59/150\n",
            "128/128 - 25s - loss: 1.5027 - accuracy: 0.4492 - val_loss: 2.4910 - val_accuracy: 0.3500 - 25s/epoch - 199ms/step\n",
            "Epoch 60/150\n",
            "128/128 - 25s - loss: 1.5150 - accuracy: 0.4512 - val_loss: 1.6428 - val_accuracy: 0.3000 - 25s/epoch - 198ms/step\n",
            "Epoch 61/150\n",
            "128/128 - 25s - loss: 1.4312 - accuracy: 0.4941 - val_loss: 1.9364 - val_accuracy: 0.3000 - 25s/epoch - 198ms/step\n",
            "Epoch 62/150\n",
            "128/128 - 25s - loss: 1.4458 - accuracy: 0.4590 - val_loss: 1.8404 - val_accuracy: 0.5000 - 25s/epoch - 199ms/step\n",
            "Epoch 63/150\n",
            "128/128 - 27s - loss: 1.4767 - accuracy: 0.4766 - val_loss: 1.6781 - val_accuracy: 0.4000 - 27s/epoch - 207ms/step\n",
            "Epoch 64/150\n",
            "128/128 - 25s - loss: 1.4162 - accuracy: 0.4863 - val_loss: 1.7854 - val_accuracy: 0.4500 - 25s/epoch - 198ms/step\n",
            "Epoch 65/150\n",
            "128/128 - 25s - loss: 1.4449 - accuracy: 0.4648 - val_loss: 1.7586 - val_accuracy: 0.3500 - 25s/epoch - 199ms/step\n",
            "Epoch 66/150\n",
            "128/128 - 25s - loss: 1.3565 - accuracy: 0.5176 - val_loss: 2.1126 - val_accuracy: 0.3500 - 25s/epoch - 199ms/step\n",
            "Epoch 67/150\n",
            "128/128 - 26s - loss: 1.4294 - accuracy: 0.5020 - val_loss: 1.5037 - val_accuracy: 0.4500 - 26s/epoch - 199ms/step\n",
            "Epoch 68/150\n",
            "128/128 - 27s - loss: 1.3505 - accuracy: 0.5254 - val_loss: 2.0526 - val_accuracy: 0.4000 - 27s/epoch - 209ms/step\n",
            "Epoch 69/150\n",
            "128/128 - 25s - loss: 1.3456 - accuracy: 0.5020 - val_loss: 1.7190 - val_accuracy: 0.4500 - 25s/epoch - 197ms/step\n",
            "Epoch 70/150\n",
            "128/128 - 25s - loss: 1.3146 - accuracy: 0.5234 - val_loss: 2.5836 - val_accuracy: 0.3000 - 25s/epoch - 199ms/step\n",
            "Epoch 71/150\n",
            "128/128 - 25s - loss: 1.3697 - accuracy: 0.5215 - val_loss: 2.3928 - val_accuracy: 0.5000 - 25s/epoch - 198ms/step\n",
            "Epoch 72/150\n",
            "128/128 - 25s - loss: 1.2617 - accuracy: 0.5645 - val_loss: 1.6212 - val_accuracy: 0.3500 - 25s/epoch - 197ms/step\n",
            "Epoch 73/150\n",
            "128/128 - 27s - loss: 1.3433 - accuracy: 0.5312 - val_loss: 1.7281 - val_accuracy: 0.3000 - 27s/epoch - 207ms/step\n",
            "Epoch 74/150\n",
            "128/128 - 25s - loss: 1.4292 - accuracy: 0.4922 - val_loss: 1.8259 - val_accuracy: 0.4000 - 25s/epoch - 199ms/step\n",
            "Epoch 75/150\n",
            "128/128 - 25s - loss: 1.3301 - accuracy: 0.5137 - val_loss: 1.6149 - val_accuracy: 0.4000 - 25s/epoch - 198ms/step\n",
            "Epoch 76/150\n",
            "128/128 - 25s - loss: 1.2839 - accuracy: 0.5488 - val_loss: 1.4282 - val_accuracy: 0.6500 - 25s/epoch - 198ms/step\n",
            "Epoch 77/150\n",
            "128/128 - 25s - loss: 1.3309 - accuracy: 0.5215 - val_loss: 2.2767 - val_accuracy: 0.5000 - 25s/epoch - 198ms/step\n",
            "Epoch 78/150\n",
            "128/128 - 25s - loss: 1.2601 - accuracy: 0.5469 - val_loss: 1.9118 - val_accuracy: 0.4000 - 25s/epoch - 199ms/step\n",
            "Epoch 79/150\n",
            "128/128 - 25s - loss: 1.2619 - accuracy: 0.5312 - val_loss: 1.6377 - val_accuracy: 0.5500 - 25s/epoch - 199ms/step\n",
            "Epoch 80/150\n",
            "128/128 - 27s - loss: 1.1924 - accuracy: 0.5547 - val_loss: 1.6238 - val_accuracy: 0.4500 - 27s/epoch - 208ms/step\n",
            "Epoch 81/150\n",
            "128/128 - 25s - loss: 1.2301 - accuracy: 0.5684 - val_loss: 2.3182 - val_accuracy: 0.4000 - 25s/epoch - 198ms/step\n",
            "Epoch 82/150\n",
            "128/128 - 25s - loss: 1.1609 - accuracy: 0.5781 - val_loss: 1.8941 - val_accuracy: 0.4000 - 25s/epoch - 199ms/step\n",
            "Epoch 83/150\n",
            "128/128 - 25s - loss: 1.1454 - accuracy: 0.5684 - val_loss: 2.1615 - val_accuracy: 0.4500 - 25s/epoch - 199ms/step\n",
            "Epoch 84/150\n",
            "128/128 - 25s - loss: 1.2076 - accuracy: 0.5664 - val_loss: 1.4551 - val_accuracy: 0.5000 - 25s/epoch - 199ms/step\n",
            "Epoch 85/150\n",
            "128/128 - 27s - loss: 1.1361 - accuracy: 0.5723 - val_loss: 1.2913 - val_accuracy: 0.6000 - 27s/epoch - 207ms/step\n",
            "Epoch 86/150\n",
            "128/128 - 25s - loss: 1.2343 - accuracy: 0.5469 - val_loss: 2.0623 - val_accuracy: 0.4000 - 25s/epoch - 197ms/step\n",
            "Epoch 87/150\n",
            "128/128 - 25s - loss: 1.3013 - accuracy: 0.5273 - val_loss: 1.3940 - val_accuracy: 0.5000 - 25s/epoch - 198ms/step\n",
            "Epoch 88/150\n",
            "128/128 - 25s - loss: 1.3889 - accuracy: 0.5098 - val_loss: 1.2926 - val_accuracy: 0.4000 - 25s/epoch - 198ms/step\n",
            "Epoch 89/150\n",
            "128/128 - 25s - loss: 1.2147 - accuracy: 0.5820 - val_loss: 1.6430 - val_accuracy: 0.5000 - 25s/epoch - 198ms/step\n",
            "Epoch 90/150\n",
            "128/128 - 25s - loss: 1.1586 - accuracy: 0.5742 - val_loss: 2.9969 - val_accuracy: 0.3000 - 25s/epoch - 199ms/step\n",
            "Epoch 91/150\n",
            "128/128 - 25s - loss: 1.1460 - accuracy: 0.5859 - val_loss: 2.6859 - val_accuracy: 0.3500 - 25s/epoch - 198ms/step\n",
            "128/128 - 25s - loss: 1.1571 - accuracy: 0.5898 - val_loss: 2.4580 - val_accuracy: 0.4000 - 25s/epoch - 199ms/step\n",
            "Epoch 93/150\n",
            "128/128 - 25s - loss: 1.0954 - accuracy: 0.6016 - val_loss: 2.2336 - val_accuracy: 0.3500 - 25s/epoch - 198ms/step\n",
            "Epoch 94/150\n",
            "128/128 - 25s - loss: 1.1389 - accuracy: 0.6094 - val_loss: 1.8952 - val_accuracy: 0.4500 - 25s/epoch - 198ms/step\n",
            "Epoch 95/150\n",
            "128/128 - 26s - loss: 1.1445 - accuracy: 0.6113 - val_loss: 1.2532 - val_accuracy: 0.4000 - 26s/epoch - 200ms/step\n",
            "Epoch 96/150\n",
            "128/128 - 27s - loss: 1.1033 - accuracy: 0.6094 - val_loss: 2.4457 - val_accuracy: 0.3500 - 27s/epoch - 209ms/step\n",
            "Epoch 97/150\n",
            "128/128 - 25s - loss: 1.0990 - accuracy: 0.5898 - val_loss: 1.9558 - val_accuracy: 0.3500 - 25s/epoch - 197ms/step\n",
            "Epoch 98/150\n",
            "128/128 - 25s - loss: 1.1299 - accuracy: 0.6113 - val_loss: 2.2173 - val_accuracy: 0.4500 - 25s/epoch - 198ms/step\n",
            "Epoch 99/150\n",
            "128/128 - 26s - loss: 1.0852 - accuracy: 0.6055 - val_loss: 1.4551 - val_accuracy: 0.5500 - 26s/epoch - 200ms/step\n",
            "Epoch 100/150\n",
            "128/128 - 25s - loss: 1.1178 - accuracy: 0.5762 - val_loss: 2.0329 - val_accuracy: 0.3500 - 25s/epoch - 199ms/step\n",
            "Epoch 101/150\n",
            "128/128 - 25s - loss: 1.0130 - accuracy: 0.5996 - val_loss: 1.4176 - val_accuracy: 0.5000 - 25s/epoch - 198ms/step\n",
            "Epoch 102/150\n",
            "128/128 - 25s - loss: 1.0187 - accuracy: 0.6523 - val_loss: 1.7919 - val_accuracy: 0.4500 - 25s/epoch - 197ms/step\n",
            "Epoch 103/150\n",
            "128/128 - 25s - loss: 1.0373 - accuracy: 0.6406 - val_loss: 2.0314 - val_accuracy: 0.6000 - 25s/epoch - 197ms/step\n",
            "Epoch 104/150\n",
            "128/128 - 25s - loss: 1.0806 - accuracy: 0.6074 - val_loss: 2.7170 - val_accuracy: 0.4000 - 25s/epoch - 197ms/step\n",
            "Epoch 105/150\n",
            "128/128 - 25s - loss: 1.0996 - accuracy: 0.6074 - val_loss: 1.7532 - val_accuracy: 0.4500 - 25s/epoch - 197ms/step\n",
            "Epoch 106/150\n",
            "128/128 - 25s - loss: 1.0143 - accuracy: 0.6621 - val_loss: 1.7912 - val_accuracy: 0.5000 - 25s/epoch - 197ms/step\n",
            "Epoch 107/150\n",
            "128/128 - 27s - loss: 1.0718 - accuracy: 0.6094 - val_loss: 2.0854 - val_accuracy: 0.4000 - 27s/epoch - 208ms/step\n",
            "Epoch 108/150\n",
            "128/128 - 25s - loss: 0.9829 - accuracy: 0.6426 - val_loss: 2.9273 - val_accuracy: 0.4000 - 25s/epoch - 197ms/step\n",
            "Epoch 109/150\n",
            "128/128 - 25s - loss: 0.9541 - accuracy: 0.6719 - val_loss: 1.2841 - val_accuracy: 0.7500 - 25s/epoch - 198ms/step\n",
            "Epoch 110/150\n",
            "128/128 - 25s - loss: 1.0715 - accuracy: 0.6230 - val_loss: 2.9766 - val_accuracy: 0.3000 - 25s/epoch - 197ms/step\n",
            "Epoch 111/150\n",
            "128/128 - 25s - loss: 0.9480 - accuracy: 0.6777 - val_loss: 1.9800 - val_accuracy: 0.3500 - 25s/epoch - 197ms/step\n",
            "Epoch 112/150\n",
            "128/128 - 26s - loss: 1.0347 - accuracy: 0.6387 - val_loss: 1.5657 - val_accuracy: 0.4500 - 26s/epoch - 206ms/step\n",
            "Epoch 113/150\n",
            "128/128 - 25s - loss: 0.9862 - accuracy: 0.6484 - val_loss: 2.3624 - val_accuracy: 0.6000 - 25s/epoch - 197ms/step\n",
            "Epoch 114/150\n",
            "128/128 - 25s - loss: 0.9604 - accuracy: 0.6660 - val_loss: 2.6965 - val_accuracy: 0.4000 - 25s/epoch - 197ms/step\n",
            "Epoch 115/150\n",
            "128/128 - 25s - loss: 0.8795 - accuracy: 0.6797 - val_loss: 3.4783 - val_accuracy: 0.4500 - 25s/epoch - 198ms/step\n",
            "Epoch 116/150\n",
            "128/128 - 25s - loss: 0.9706 - accuracy: 0.6660 - val_loss: 1.4975 - val_accuracy: 0.5000 - 25s/epoch - 198ms/step\n",
            "Epoch 117/150\n",
            "128/128 - 25s - loss: 0.8753 - accuracy: 0.6934 - val_loss: 2.2227 - val_accuracy: 0.4500 - 25s/epoch - 197ms/step\n",
            "Epoch 118/150\n",
            "128/128 - 25s - loss: 0.8461 - accuracy: 0.6875 - val_loss: 1.6960 - val_accuracy: 0.5000 - 25s/epoch - 197ms/step\n",
            "Epoch 119/150\n",
            "128/128 - 26s - loss: 0.9166 - accuracy: 0.6680 - val_loss: 1.8329 - val_accuracy: 0.6000 - 26s/epoch - 202ms/step\n",
            "Epoch 120/150\n",
            "128/128 - 25s - loss: 0.8913 - accuracy: 0.6738 - val_loss: 1.8748 - val_accuracy: 0.5000 - 25s/epoch - 199ms/step\n",
            "Epoch 121/150\n",
            "128/128 - 25s - loss: 1.0008 - accuracy: 0.6465 - val_loss: 1.5520 - val_accuracy: 0.5500 - 25s/epoch - 199ms/step\n",
            "Epoch 122/150\n",
            "128/128 - 26s - loss: 0.9405 - accuracy: 0.6641 - val_loss: 1.5781 - val_accuracy: 0.5000 - 26s/epoch - 202ms/step\n",
            "Epoch 123/150\n",
            "128/128 - 26s - loss: 0.9005 - accuracy: 0.6992 - val_loss: 1.5602 - val_accuracy: 0.6000 - 26s/epoch - 202ms/step\n",
            "Epoch 124/150\n",
            "128/128 - 25s - loss: 0.8523 - accuracy: 0.6836 - val_loss: 2.8218 - val_accuracy: 0.4000 - 25s/epoch - 198ms/step\n",
            "Epoch 125/150\n",
            "128/128 - 25s - loss: 0.8875 - accuracy: 0.6699 - val_loss: 1.7253 - val_accuracy: 0.4500 - 25s/epoch - 198ms/step\n",
            "Epoch 126/150\n",
            "128/128 - 25s - loss: 0.8890 - accuracy: 0.6621 - val_loss: 2.9387 - val_accuracy: 0.3500 - 25s/epoch - 199ms/step\n",
            "Epoch 127/150\n",
            "128/128 - 26s - loss: 0.9272 - accuracy: 0.6797 - val_loss: 2.0567 - val_accuracy: 0.5000 - 26s/epoch - 202ms/step\n",
            "Epoch 128/150\n",
            "128/128 - 27s - loss: 0.8527 - accuracy: 0.7188 - val_loss: 2.1545 - val_accuracy: 0.5000 - 27s/epoch - 214ms/step\n",
            "Epoch 129/150\n",
            "128/128 - 25s - loss: 0.8090 - accuracy: 0.7051 - val_loss: 1.4262 - val_accuracy: 0.5500 - 25s/epoch - 199ms/step\n",
            "Epoch 130/150\n",
            "128/128 - 25s - loss: 0.9185 - accuracy: 0.6797 - val_loss: 2.9010 - val_accuracy: 0.3000 - 25s/epoch - 198ms/step\n",
            "Epoch 131/150\n",
            "128/128 - 25s - loss: 0.9019 - accuracy: 0.6777 - val_loss: 3.1418 - val_accuracy: 0.2500 - 25s/epoch - 198ms/step\n",
            "Epoch 132/150\n",
            "128/128 - 25s - loss: 0.8232 - accuracy: 0.6973 - val_loss: 1.4645 - val_accuracy: 0.6000 - 25s/epoch - 197ms/step\n",
            "Epoch 133/150\n",
            "128/128 - 25s - loss: 0.8888 - accuracy: 0.6641 - val_loss: 1.0151 - val_accuracy: 0.6000 - 25s/epoch - 197ms/step\n",
            "Epoch 134/150\n",
            "128/128 - 25s - loss: 0.7970 - accuracy: 0.7148 - val_loss: 2.8113 - val_accuracy: 0.5500 - 25s/epoch - 199ms/step\n",
            "Epoch 135/150\n",
            "128/128 - 25s - loss: 0.8536 - accuracy: 0.7051 - val_loss: 1.1196 - val_accuracy: 0.6500 - 25s/epoch - 198ms/step\n",
            "Epoch 136/150\n",
            "128/128 - 25s - loss: 0.7814 - accuracy: 0.7090 - val_loss: 2.7670 - val_accuracy: 0.3500 - 25s/epoch - 198ms/step\n",
            "Epoch 137/150\n",
            "128/128 - 25s - loss: 0.8883 - accuracy: 0.6953 - val_loss: 2.2360 - val_accuracy: 0.4000 - 25s/epoch - 197ms/step\n",
            "Epoch 138/150\n",
            "128/128 - 25s - loss: 0.9160 - accuracy: 0.6602 - val_loss: 4.0203 - val_accuracy: 0.4500 - 25s/epoch - 197ms/step\n",
            "Epoch 139/150\n",
            "128/128 - 26s - loss: 0.8119 - accuracy: 0.7031 - val_loss: 3.0556 - val_accuracy: 0.3500 - 26s/epoch - 207ms/step\n",
            "Epoch 140/150\n",
            "128/128 - 25s - loss: 0.9728 - accuracy: 0.6855 - val_loss: 1.7678 - val_accuracy: 0.4500 - 25s/epoch - 198ms/step\n",
            "Epoch 141/150\n",
            "128/128 - 25s - loss: 0.7830 - accuracy: 0.6953 - val_loss: 1.5742 - val_accuracy: 0.5500 - 25s/epoch - 197ms/step\n",
            "Epoch 142/150\n",
            "128/128 - 25s - loss: 0.8240 - accuracy: 0.7051 - val_loss: 2.0023 - val_accuracy: 0.6000 - 25s/epoch - 196ms/step\n",
            "Epoch 143/150\n",
            "128/128 - 25s - loss: 0.6964 - accuracy: 0.7480 - val_loss: 2.2093 - val_accuracy: 0.5000 - 25s/epoch - 197ms/step\n",
            "Epoch 144/150\n",
            "128/128 - 26s - loss: 0.7784 - accuracy: 0.7344 - val_loss: 0.6833 - val_accuracy: 0.6500 - 26s/epoch - 206ms/step\n",
            "Epoch 145/150\n",
            "128/128 - 25s - loss: 0.7596 - accuracy: 0.7285 - val_loss: 2.0580 - val_accuracy: 0.3500 - 25s/epoch - 197ms/step\n",
            "Epoch 146/150\n",
            "128/128 - 25s - loss: 0.7474 - accuracy: 0.7305 - val_loss: 2.0295 - val_accuracy: 0.5000 - 25s/epoch - 198ms/step\n",
            "Epoch 147/150\n",
            "128/128 - 25s - loss: 0.6941 - accuracy: 0.7383 - val_loss: 2.6176 - val_accuracy: 0.3500 - 25s/epoch - 199ms/step\n",
            "Epoch 148/150\n",
            "128/128 - 25s - loss: 0.7521 - accuracy: 0.7207 - val_loss: 2.5587 - val_accuracy: 0.4000 - 25s/epoch - 198ms/step\n",
            "Epoch 149/150\n",
            "128/128 - 26s - loss: 0.8124 - accuracy: 0.6895 - val_loss: 1.9600 - val_accuracy: 0.6500 - 26s/epoch - 207ms/step\n",
            "Epoch 150/150\n",
            "128/128 - 25s - loss: 0.8379 - accuracy: 0.7266 - val_loss: 2.5144 - val_accuracy: 0.5000 - 25s/epoch - 197ms/step\n"
          ]
        },
        {
          "output_type": "execute_result",
          "data": {
            "text/plain": [
              "<keras.callbacks.History at 0x7fe6c48fdfa0>"
            ]
          },
          "metadata": {},
          "execution_count": 28
        }
      ]
    },
    {
      "cell_type": "code",
      "source": [
        "# Check the Accuracy\n",
        "loss, accuracy = model.evaluate(train_generator, verbose=False)\n",
        "print(\"Accuracy: {:.4f}\".format(accuracy))"
      ],
      "metadata": {
        "colab": {
          "base_uri": "https://localhost:8080/"
        },
        "id": "xooONQ9t-zyF",
        "outputId": "e569d979-19f7-4173-a146-235cbdbd6e12"
      },
      "execution_count": 37,
      "outputs": [
        {
          "output_type": "stream",
          "name": "stdout",
          "text": [
            "Accuracy: 0.7543\n"
          ]
        }
      ]
    }
  ]
}